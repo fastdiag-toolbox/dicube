{
 "cells": [
  {
   "cell_type": "code",
   "execution_count": null,
   "metadata": {
    "vscode": {
     "languageId": "plaintext"
    }
   },
   "outputs": [],
   "source": [
    "# DiCube: Medical Image Compression Library\n",
    "\n",
    "High-performance medical image storage with advanced compression codecs:\n",
    "- **JPEG-XL (dcba)**: Next-generation compression with excellent quality\n",
    "- **HTJ2K (dcbs)**: High-performance JPEG 2000 for medical imaging\n"
   ]
  },
  {
   "cell_type": "code",
   "execution_count": null,
   "metadata": {},
   "outputs": [],
   "source": [
    "import numpy as np\n",
    "import pandas as pd\n",
    "import time\n",
    "import tempfile\n",
    "from pathlib import Path\n",
    "\n",
    "import pydicom\n",
    "import nibabel as nib\n",
    "from dicube.core.image import DicomCubeImage\n",
    "import dicube.codecs\n",
    "\n",
    "print(f\"Available codecs: {dicube.codecs.list_codecs()}\")\n"
   ]
  },
  {
   "cell_type": "code",
   "execution_count": null,
   "metadata": {
    "vscode": {
     "languageId": "plaintext"
    }
   },
   "outputs": [],
   "source": [
    "## Load Real DICOM Data\n"
   ]
  },
  {
   "cell_type": "code",
   "execution_count": null,
   "metadata": {},
   "outputs": [],
   "source": [
    "# Load DICOM series\n",
    "dicom_folder = \"testdata/dicom/sample_150\"\n",
    "image = DicomCubeImage.from_dicom_folder(dicom_folder)\n",
    "\n",
    "print(f\"Loaded DICOM series:\")\n",
    "print(f\"  Shape: {image.shape}\")\n",
    "print(f\"  Dtype: {image.raw_image.dtype}\")\n",
    "print(f\"  Size: {image.raw_image.nbytes:,} bytes\")\n",
    "print(f\"  Value range: {image.raw_image.min()} - {image.raw_image.max()}\")\n"
   ]
  },
  {
   "cell_type": "code",
   "execution_count": null,
   "metadata": {
    "vscode": {
     "languageId": "plaintext"
    }
   },
   "outputs": [],
   "source": [
    "## Compression Performance Comparison\n"
   ]
  },
  {
   "cell_type": "code",
   "execution_count": null,
   "metadata": {},
   "outputs": [],
   "source": [
    "def benchmark_codec(image_data, codec_name, runs=3):\n",
    "    \"\"\"Benchmark compression codec performance\"\"\"\n",
    "    codec = dicube.codecs.get_codec(codec_name)\n",
    "    \n",
    "    # Warm up\n",
    "    encoded = codec['encode'](image_data)\n",
    "    decoded = codec['decode'](encoded)\n",
    "    \n",
    "    # Measure encoding time\n",
    "    encode_times = []\n",
    "    for _ in range(runs):\n",
    "        start = time.time()\n",
    "        encoded = codec['encode'](image_data)\n",
    "        encode_times.append(time.time() - start)\n",
    "    \n",
    "    # Measure decoding time\n",
    "    decode_times = []\n",
    "    for _ in range(runs):\n",
    "        start = time.time()\n",
    "        decoded = codec['decode'](encoded)\n",
    "        decode_times.append(time.time() - start)\n",
    "    \n",
    "    # Verify lossless compression\n",
    "    if codec_name == 'dcbs':  # JPH should be perfectly lossless\n",
    "        assert np.array_equal(image_data, decoded)\n",
    "    \n",
    "    return {\n",
    "        'codec': codec_name,\n",
    "        'original_size': image_data.nbytes,\n",
    "        'compressed_size': len(encoded),\n",
    "        'compression_ratio': image_data.nbytes / len(encoded),\n",
    "        'encode_time': np.mean(encode_times),\n",
    "        'decode_time': np.mean(decode_times),\n",
    "        'encode_speed_mb_s': (image_data.nbytes / 1024 / 1024) / np.mean(encode_times),\n",
    "        'decode_speed_mb_s': (image_data.nbytes / 1024 / 1024) / np.mean(decode_times)\n",
    "    }\n",
    "\n",
    "# Test single slice\n",
    "single_slice = image.raw_image[0]\n",
    "print(f\"Testing single slice: {single_slice.shape}, {single_slice.dtype}\")\n",
    "\n",
    "results = []\n",
    "for codec_name in ['dcba', 'dcbs']:\n",
    "    print(f\"Benchmarking {codec_name}...\")\n",
    "    result = benchmark_codec(single_slice, codec_name)\n",
    "    results.append(result)\n",
    "\n",
    "# Create comparison table\n",
    "df = pd.DataFrame(results)\n",
    "df = df.round(3)\n",
    "print(\"\\n🔥 Performance Comparison (Single Slice):\")\n",
    "print(df[['codec', 'original_size', 'compressed_size', 'compression_ratio', \n",
    "          'encode_time', 'decode_time', 'encode_speed_mb_s', 'decode_speed_mb_s']].to_string(index=False))\n"
   ]
  },
  {
   "cell_type": "code",
   "execution_count": null,
   "metadata": {
    "vscode": {
     "languageId": "plaintext"
    }
   },
   "outputs": [],
   "source": [
    "## File I/O Performance\n"
   ]
  },
  {
   "cell_type": "code",
   "execution_count": null,
   "metadata": {},
   "outputs": [],
   "source": [
    "def benchmark_file_io(image, output_prefix, runs=3):\n",
    "    \"\"\"Benchmark file I/O performance\"\"\"\n",
    "    results = []\n",
    "    \n",
    "    with tempfile.TemporaryDirectory() as tmpdir:\n",
    "        tmpdir = Path(tmpdir)\n",
    "        \n",
    "        # Test uncompressed DICOM\n",
    "        dicom_path = tmpdir / f\"{output_prefix}_uncompressed\"\n",
    "        start = time.time()\n",
    "        image.to_dicom_folder(str(dicom_path))\n",
    "        save_time = time.time() - start\n",
    "        \n",
    "        start = time.time()\n",
    "        loaded_image = DicomCubeImage.from_dicom_folder(str(dicom_path))\n",
    "        load_time = time.time() - start\n",
    "        \n",
    "        dicom_size = sum(f.stat().st_size for f in dicom_path.rglob(\"*.dcm\"))\n",
    "        \n",
    "        results.append({\n",
    "            'format': 'DICOM_uncompressed',\n",
    "            'file_size': dicom_size,\n",
    "            'save_time': save_time,\n",
    "            'load_time': load_time,\n",
    "            'compression_ratio': image.raw_image.nbytes / dicom_size\n",
    "        })\n",
    "        \n",
    "        # Test compressed formats\n",
    "        for codec_name in ['dcba', 'dcbs']:\n",
    "            codec = dicube.codecs.get_codec(codec_name)\n",
    "            ext = '.jxl' if codec_name == 'dcba' else '.j2k'\n",
    "            \n",
    "            # Save to compressed file\n",
    "            compressed_path = tmpdir / f\"{output_prefix}_{codec_name}{ext}\"\n",
    "            \n",
    "            save_times = []\n",
    "            for _ in range(runs):\n",
    "                start = time.time()\n",
    "                image.to_file(str(compressed_path), codec=codec_name)\n",
    "                save_times.append(time.time() - start)\n",
    "            \n",
    "            # Load from compressed file  \n",
    "            load_times = []\n",
    "            for _ in range(runs):\n",
    "                start = time.time()\n",
    "                loaded_image = DicomCubeImage.from_file(str(compressed_path))\n",
    "                load_times.append(time.time() - start)\n",
    "            \n",
    "            file_size = compressed_path.stat().st_size\n",
    "            \n",
    "            results.append({\n",
    "                'format': f'{codec_name}_{ext[1:]}',\n",
    "                'file_size': file_size,\n",
    "                'save_time': np.mean(save_times),\n",
    "                'load_time': np.mean(load_times),\n",
    "                'compression_ratio': image.raw_image.nbytes / file_size\n",
    "            })\n",
    "    \n",
    "    return results\n",
    "\n",
    "print(\"Benchmarking file I/O performance...\")\n",
    "io_results = benchmark_file_io(image, \"test\")\n",
    "\n",
    "# Create I/O comparison table\n",
    "io_df = pd.DataFrame(io_results)\n",
    "io_df = io_df.round(3)\n",
    "print(\"\\n💾 File I/O Performance Comparison:\")\n",
    "print(io_df.to_string(index=False))\n"
   ]
  },
  {
   "cell_type": "code",
   "execution_count": null,
   "metadata": {
    "vscode": {
     "languageId": "plaintext"
    }
   },
   "outputs": [],
   "source": [
    "## NIfTI Data Test\n"
   ]
  },
  {
   "cell_type": "code",
   "execution_count": null,
   "metadata": {},
   "outputs": [],
   "source": [
    "# Load NIfTI data\n",
    "nifti_path = \"testdata/nifti/s0000.nii.gz\"\n",
    "nifti_image = DicomCubeImage.from_nifti(nifti_path)\n",
    "\n",
    "print(f\"Loaded NIfTI data:\")\n",
    "print(f\"  Shape: {nifti_image.shape}\")\n",
    "print(f\"  Dtype: {nifti_image.raw_image.dtype}\")\n",
    "print(f\"  Size: {nifti_image.raw_image.nbytes:,} bytes\")\n",
    "\n",
    "# Test compression on NIfTI slice\n",
    "nifti_slice = nifti_image.raw_image[:, :, nifti_image.shape[2]//2]  # middle slice\n",
    "print(f\"\\nTesting NIfTI slice: {nifti_slice.shape}\")\n",
    "\n",
    "nifti_results = []\n",
    "for codec_name in ['dcba', 'dcbs']:\n",
    "    result = benchmark_codec(nifti_slice, codec_name)\n",
    "    nifti_results.append(result)\n",
    "\n",
    "nifti_df = pd.DataFrame(nifti_results)\n",
    "nifti_df = nifti_df.round(3)\n",
    "print(\"\\n🧠 NIfTI Compression Performance:\")\n",
    "print(nifti_df[['codec', 'original_size', 'compressed_size', 'compression_ratio', \n",
    "               'encode_time', 'decode_time']].to_string(index=False))\n"
   ]
  },
  {
   "cell_type": "code",
   "execution_count": null,
   "metadata": {
    "vscode": {
     "languageId": "plaintext"
    }
   },
   "outputs": [],
   "source": [
    "## Summary\n",
    "\n",
    "**JPEG-XL (dcba)**: Better compression ratios, especially for 16-bit medical images. Higher computational cost but excellent quality.\n",
    "\n",
    "**HTJ2K (dcbs)**: Ultra-fast compression with good ratios. Perfect for real-time applications requiring lossless compression.\n",
    "\n",
    "Both codecs seamlessly integrate with DicomCubeImage for easy medical image workflow.\n"
   ]
  },
  {
   "cell_type": "code",
   "execution_count": null,
   "metadata": {
    "vscode": {
     "languageId": "plaintext"
    }
   },
   "outputs": [],
   "source": []
  },
  {
   "cell_type": "code",
   "execution_count": null,
   "metadata": {
    "vscode": {
     "languageId": "plaintext"
    }
   },
   "outputs": [],
   "source": [
    "\n"
   ]
  },
  {
   "cell_type": "code",
   "execution_count": null,
   "metadata": {
    "vscode": {
     "languageId": "plaintext"
    }
   },
   "outputs": [],
   "source": [
    "\n"
   ]
  },
  {
   "cell_type": "code",
   "execution_count": null,
   "metadata": {},
   "outputs": [],
   "source": [
    "\n"
   ]
  },
  {
   "cell_type": "code",
   "execution_count": null,
   "metadata": {},
   "outputs": [],
   "source": [
    "\n"
   ]
  },
  {
   "cell_type": "code",
   "execution_count": null,
   "metadata": {},
   "outputs": [],
   "source": [
    "\n"
   ]
  },
  {
   "cell_type": "code",
   "execution_count": null,
   "metadata": {},
   "outputs": [],
   "source": []
  }
 ],
 "metadata": {
  "language_info": {
   "name": "python"
  }
 },
 "nbformat": 4,
 "nbformat_minor": 2
}
